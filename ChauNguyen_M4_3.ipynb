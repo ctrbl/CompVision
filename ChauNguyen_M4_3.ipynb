{
  "nbformat": 4,
  "nbformat_minor": 0,
  "metadata": {
    "colab": {
      "provenance": []
    },
    "kernelspec": {
      "name": "python3",
      "display_name": "Python 3"
    },
    "language_info": {
      "name": "python"
    }
  },
  "cells": [
    {
      "cell_type": "code",
      "source": [
        "import numpy as np"
      ],
      "metadata": {
        "id": "PL14AJ47YKj9"
      },
      "execution_count": 1,
      "outputs": []
    },
    {
      "cell_type": "markdown",
      "metadata": {
        "id": "XDhivECewCrR"
      },
      "source": [
        "# Assignment: Computing H without for loops\n",
        "\n",
        "Write python code to compute $\\mathbf{H}$ and $\\mathbf{b}$ given samples $\\{(x_1, y_1), \\cdots, (x_n, y_n)\\}$ **without** for-loops.\n",
        "\n",
        ">> def compute_H (X, Y) : -- returns 2 by 2 matrix H\n",
        "\n",
        ">> def compute_b (X, Y) : -- returns 2 by 1 matrix b\n",
        "\n",
        "X is an np.array of size N by 1, and Y is an np.array of size N by 1. They store the x and y values in correspondence order; X [i] is associated with Y[i].\n",
        "\n",
        "Write code to also test your implementation by using synthetic data generated using known noisy model and estimating the parameters.\n",
        "\n"
      ]
    },
    {
      "cell_type": "code",
      "source": [
        "def compute_H (X, Y):\n",
        "  sum_X = np.sum(X)\n",
        "  return np.array( [[np.sum(np.square(X)), sum_X], [sum_X, len(X)]] )\n",
        "\n",
        "def compute_b (X, Y):\n",
        "  diff = np.sum(Y - X)\n",
        "  return np.array( [[np.sum(diff * X)], [diff]] )"
      ],
      "metadata": {
        "id": "7WeuegLCD8x7"
      },
      "execution_count": 2,
      "outputs": []
    },
    {
      "cell_type": "code",
      "source": [
        "# Test using easy data first\n",
        "X = np.array([1, 2, 3])\n",
        "Y = np.array([3, 4, 5])\n",
        "X, Y = X.reshape(-1, 1), Y.reshape(-1, 1)\n",
        "print(\"H:\\n\", compute_H(X, Y))\n",
        "print(\"b:\\n\", compute_b(X, Y))"
      ],
      "metadata": {
        "colab": {
          "base_uri": "https://localhost:8080/"
        },
        "id": "75_tAuC1QXJ6",
        "outputId": "db148937-25d7-4e44-c0a9-cf605809e398"
      },
      "execution_count": 10,
      "outputs": [
        {
          "output_type": "stream",
          "name": "stdout",
          "text": [
            "H:\n",
            " [[14  6]\n",
            " [ 6  3]]\n",
            "b:\n",
            " [[36]\n",
            " [ 6]]\n"
          ]
        }
      ]
    },
    {
      "cell_type": "code",
      "source": [
        "# Test using synthetic data generated using Gaussian noise\n",
        "# where N is the array length, mu is the mean, and sigma is the standard deviation of the Gaussian distribution\n",
        "# using https://numpy.org/doc/stable/reference/random/generated/numpy.random.normal.html\n",
        "N, mu, sigma = 10, 0, 3\n",
        "X = np.random.normal(mu, sigma, N)\n",
        "Y = np.random.normal(mu, sigma, N)\n",
        "X, Y = X.reshape(-1, 1), Y.reshape(-1, 1)\n",
        "print(\"X:\\n\", X, \"\\nY:\\n\", Y)\n",
        "\n",
        "# Estimating the parameters using computed H and b\n",
        "H, b = compute_H(X, Y), compute_b(X, Y)\n",
        "params = np.dot(np.linalg.inv(H), b)\n",
        "print(\"H:\\n\", H, \"\\nb:\\n\", b, \"\\nParameters:\\n\", params)"
      ],
      "metadata": {
        "colab": {
          "base_uri": "https://localhost:8080/"
        },
        "id": "LoI93iqbJjBK",
        "outputId": "551623ba-c705-4eb6-8bf0-6087c00a2dc6"
      },
      "execution_count": 6,
      "outputs": [
        {
          "output_type": "stream",
          "name": "stdout",
          "text": [
            "X:\n",
            " [[-4.51750141]\n",
            " [-1.32851375]\n",
            " [-0.19815319]\n",
            " [ 2.30772542]\n",
            " [ 5.48092513]\n",
            " [-3.37272548]\n",
            " [-4.17339496]\n",
            " [-0.79264183]\n",
            " [ 3.77264085]\n",
            " [-0.87509671]] \n",
            "Y:\n",
            " [[ 5.15274651]\n",
            " [ 2.79446323]\n",
            " [-1.89295907]\n",
            " [ 1.77924055]\n",
            " [ 0.83021609]\n",
            " [ 2.34348791]\n",
            " [ 2.49118042]\n",
            " [-3.65869244]\n",
            " [-0.80223349]\n",
            " [-1.79174206]]\n",
            "H:\n",
            " [[101.9975663   -3.69673594]\n",
            " [ -3.69673594  10.        ]] \n",
            "b:\n",
            " [[-40.45132454]\n",
            " [ 10.9424436 ]] \n",
            "Parameters:\n",
            " [[-0.36177916]\n",
            " [ 0.96050416]]\n"
          ]
        }
      ]
    }
  ]
}